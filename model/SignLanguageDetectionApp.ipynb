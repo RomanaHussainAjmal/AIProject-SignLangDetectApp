{
 "cells": [
  {
   "cell_type": "markdown",
   "metadata": {},
   "source": [
    "# Sign Language Detection Application"
   ]
  },
  {
   "cell_type": "markdown",
   "metadata": {},
   "source": [
    "# CNN Model"
   ]
  },
  {
   "cell_type": "code",
   "execution_count": 1,
   "metadata": {},
   "outputs": [
    {
     "name": "stderr",
     "output_type": "stream",
     "text": [
      "27455it [00:00, 125576.18it/s]\n",
      "7172it [00:00, 141224.61it/s]\n",
      "C:\\Users\\roman\\anaconda3\\envs\\clg3.8\\lib\\site-packages\\keras\\optimizers\\optimizer_v2\\adam.py:114: UserWarning: The `lr` argument is deprecated, use `learning_rate` instead.\n",
      "  super().__init__(name, **kwargs)\n"
     ]
    },
    {
     "name": "stdout",
     "output_type": "stream",
     "text": [
      "Epoch 1/5\n",
      "843/843 [==============================] - 24s 28ms/step - loss: 2.3670 - accuracy: 0.2591 - val_loss: 0.9504 - val_accuracy: 0.7120\n",
      "Epoch 2/5\n",
      "843/843 [==============================] - 24s 28ms/step - loss: 0.9287 - accuracy: 0.6697 - val_loss: 0.3358 - val_accuracy: 0.9000\n",
      "Epoch 3/5\n",
      "843/843 [==============================] - 24s 28ms/step - loss: 0.5455 - accuracy: 0.8033 - val_loss: 0.1566 - val_accuracy: 0.9600\n",
      "Epoch 4/5\n",
      "843/843 [==============================] - 23s 27ms/step - loss: 0.3785 - accuracy: 0.8645 - val_loss: 0.0784 - val_accuracy: 0.9780\n",
      "Epoch 5/5\n",
      "843/843 [==============================] - 23s 27ms/step - loss: 0.2738 - accuracy: 0.9026 - val_loss: 0.0410 - val_accuracy: 0.9920\n"
     ]
    }
   ],
   "source": [
    "import pandas as pd\n",
    "import numpy as np\n",
    "import os\n",
    "from random import shuffle\n",
    "from tqdm import *\n",
    "from keras.utils.np_utils import to_categorical\n",
    "from keras.models import Sequential\n",
    "from keras.layers import Dense, Dropout, Flatten, Conv2D, MaxPool2D\n",
    "from keras.optimizers import Adam\n",
    "\n",
    "MODEL_NAME = \"sign-language.h5\"\n",
    "\n",
    "train_df = pd.read_csv('sign_mnist_train.csv')\n",
    "test_df = pd.read_csv('sign_mnist_test.csv')\n",
    "train_data = train_df.iloc[:,1:].values\n",
    "test_data = test_df.iloc[:,1:].values\n",
    "train_label = train_df['label'].values\n",
    "test_label = test_df['label'].values\n",
    "\n",
    "train_data = np.array(train_data).reshape((-1, 1, 28, 28)).astype(np.uint8) / 255.0\n",
    "test_data = np.array(test_data).reshape((-1, 1, 28, 28)).astype(np.uint8) / 255.0\n",
    "train_label = to_categorical(train_label, 25).astype(np.uint8)\n",
    "\n",
    "training_data = []\n",
    "for i, data in tqdm(enumerate(train_data)):\n",
    "    label = train_label[i]\n",
    "    training_data.append([np.array(data), np.array(label)])\n",
    "shuffle(training_data)\n",
    "\n",
    "testing_data = []\n",
    "for i, data in tqdm(enumerate(test_data)):\n",
    "    testing_data.append([np.array(data), i+1])\n",
    "\n",
    "model = Sequential()\n",
    "model.add(Conv2D(32, 2, activation='relu', input_shape=(28,28,1)))\n",
    "model.add(Conv2D(64, 2, activation='relu'))\n",
    "model.add(MaxPool2D(pool_size=(2, 2)))\n",
    "model.add(Dropout(0.25))\n",
    "\n",
    "model.add(Conv2D(32, 2, activation='relu'))\n",
    "model.add(Conv2D(64, 2, activation='relu'))\n",
    "model.add(MaxPool2D(pool_size=(2, 2)))\n",
    "model.add(Dropout(0.25))\n",
    "\n",
    "model.add(Conv2D(32, 2, activation='relu'))\n",
    "model.add(Conv2D(64, 2, activation='relu'))\n",
    "model.add(MaxPool2D(pool_size=(2, 2)))\n",
    "model.add(Dropout(0.25))\n",
    "\n",
    "model.add(Flatten())\n",
    "model.add(Dense(1024, activation='relu'))\n",
    "model.add(Dropout(0.5))\n",
    "model.add(Dense(25, activation='softmax'))\n",
    "optimizer = Adam(lr=0.001)\n",
    "model.compile(optimizer=optimizer, loss='categorical_crossentropy', metrics=['accuracy'])\n",
    "train = training_data[:-500]\n",
    "test = training_data[-500:]\n",
    "X = np.array([i[0] for i in train]).reshape([-1, 28, 28, 1])\n",
    "y = np.array([i[1] for i in train])\n",
    "\n",
    "test_x = np.array([i[0] for i in test]).reshape([-1, 28, 28, 1])\n",
    "test_y = np.array([i[1] for i in test])\n",
    "\n",
    "model.fit(X, y, epochs=5, verbose=1, validation_data=(test_x, test_y))\n",
    "\n",
    "model.save(MODEL_NAME)"
   ]
  },
  {
   "cell_type": "markdown",
   "metadata": {},
   "source": [
    "# RNN model working on MNIST standard dataset"
   ]
  },
  {
   "cell_type": "code",
   "execution_count": 1,
   "metadata": {
    "_cell_guid": "b1076dfc-b9ad-4769-8c92-a6c4dae69d19",
    "_uuid": "8f2839f25d086af736a60e9eeb907d3b93b6e0e5",
    "colab": {
     "base_uri": "https://localhost:8080/"
    },
    "id": "XaUI7L94i7Ip",
    "outputId": "a02f4919-d58a-455b-a6ba-9c470faf1736"
   },
   "outputs": [
    {
     "data": {
      "text/plain": [
       "RandomState(MT19937) at 0x1924A74ED40"
      ]
     },
     "execution_count": 1,
     "metadata": {},
     "output_type": "execute_result"
    }
   ],
   "source": [
    "\n",
    "import os\n",
    "import numpy as np \n",
    "import pandas as pd\n",
    "import matplotlib.pyplot as plt\n",
    "%matplotlib inline\n",
    "import seaborn as sns\n",
    "\n",
    "\n",
    "from sklearn.metrics import accuracy_score\n",
    "\n",
    "from sklearn.model_selection import train_test_split\n",
    "\n",
    "seed = 42\n",
    "np.random.RandomState(seed)\n",
    "\n"
   ]
  },
  {
   "cell_type": "code",
   "execution_count": 2,
   "metadata": {
    "_cell_guid": "79c7e3d0-c299-4dcb-8224-4455121ee9b0",
    "_uuid": "d629ff2d2480ee46fbb7e2d37f6b5fab8052498a",
    "id": "CGlJGD9Fi7Is"
   },
   "outputs": [],
   "source": [
    "from keras.optimizers import SGD \n",
    "\n",
    "from keras.models import Sequential, Model\n",
    "\n",
    "from keras.utils import to_categorical\n",
    "\n",
    "from keras.layers import Dense, Dropout, Flatten, Input, Bidirectional, LSTM, GlobalMaxPool1D, Lambda, Concatenate\n",
    "\n",
    "from keras.backend import permute_dimensions\n",
    "\n",
    "from keras.callbacks import EarlyStopping, History\n",
    "\n",
    "import tensorflow as tf"
   ]
  },
  {
   "cell_type": "markdown",
   "metadata": {
    "id": "I6iz3cL6i7It"
   },
   "source": [
    "# Load & Prepare data"
   ]
  },
  {
   "cell_type": "code",
   "execution_count": 3,
   "metadata": {
    "id": "lJplew8Ai7Iu"
   },
   "outputs": [],
   "source": [
    "IMG_SIZE = 28 \n",
    "NUM_CLASSES = 25 "
   ]
  },
  {
   "cell_type": "code",
   "execution_count": 4,
   "metadata": {
    "colab": {
     "base_uri": "https://localhost:8080/",
     "height": 299
    },
    "id": "O7KnVkwxi7Iu",
    "outputId": "288e93e5-b331-4fe5-b246-59712ac570b2"
   },
   "outputs": [
    {
     "data": {
      "text/html": [
       "<div>\n",
       "<style scoped>\n",
       "    .dataframe tbody tr th:only-of-type {\n",
       "        vertical-align: middle;\n",
       "    }\n",
       "\n",
       "    .dataframe tbody tr th {\n",
       "        vertical-align: top;\n",
       "    }\n",
       "\n",
       "    .dataframe thead th {\n",
       "        text-align: right;\n",
       "    }\n",
       "</style>\n",
       "<table border=\"1\" class=\"dataframe\">\n",
       "  <thead>\n",
       "    <tr style=\"text-align: right;\">\n",
       "      <th></th>\n",
       "      <th>label</th>\n",
       "      <th>pixel1</th>\n",
       "      <th>pixel2</th>\n",
       "      <th>pixel3</th>\n",
       "      <th>pixel4</th>\n",
       "      <th>pixel5</th>\n",
       "      <th>pixel6</th>\n",
       "      <th>pixel7</th>\n",
       "      <th>pixel8</th>\n",
       "      <th>pixel9</th>\n",
       "      <th>...</th>\n",
       "      <th>pixel775</th>\n",
       "      <th>pixel776</th>\n",
       "      <th>pixel777</th>\n",
       "      <th>pixel778</th>\n",
       "      <th>pixel779</th>\n",
       "      <th>pixel780</th>\n",
       "      <th>pixel781</th>\n",
       "      <th>pixel782</th>\n",
       "      <th>pixel783</th>\n",
       "      <th>pixel784</th>\n",
       "    </tr>\n",
       "  </thead>\n",
       "  <tbody>\n",
       "    <tr>\n",
       "      <th>0</th>\n",
       "      <td>3</td>\n",
       "      <td>107</td>\n",
       "      <td>118</td>\n",
       "      <td>127</td>\n",
       "      <td>134</td>\n",
       "      <td>139</td>\n",
       "      <td>143</td>\n",
       "      <td>146</td>\n",
       "      <td>150</td>\n",
       "      <td>153</td>\n",
       "      <td>...</td>\n",
       "      <td>207</td>\n",
       "      <td>207</td>\n",
       "      <td>207</td>\n",
       "      <td>207</td>\n",
       "      <td>206</td>\n",
       "      <td>206</td>\n",
       "      <td>206</td>\n",
       "      <td>204</td>\n",
       "      <td>203</td>\n",
       "      <td>202</td>\n",
       "    </tr>\n",
       "    <tr>\n",
       "      <th>1</th>\n",
       "      <td>6</td>\n",
       "      <td>155</td>\n",
       "      <td>157</td>\n",
       "      <td>156</td>\n",
       "      <td>156</td>\n",
       "      <td>156</td>\n",
       "      <td>157</td>\n",
       "      <td>156</td>\n",
       "      <td>158</td>\n",
       "      <td>158</td>\n",
       "      <td>...</td>\n",
       "      <td>69</td>\n",
       "      <td>149</td>\n",
       "      <td>128</td>\n",
       "      <td>87</td>\n",
       "      <td>94</td>\n",
       "      <td>163</td>\n",
       "      <td>175</td>\n",
       "      <td>103</td>\n",
       "      <td>135</td>\n",
       "      <td>149</td>\n",
       "    </tr>\n",
       "    <tr>\n",
       "      <th>2</th>\n",
       "      <td>2</td>\n",
       "      <td>187</td>\n",
       "      <td>188</td>\n",
       "      <td>188</td>\n",
       "      <td>187</td>\n",
       "      <td>187</td>\n",
       "      <td>186</td>\n",
       "      <td>187</td>\n",
       "      <td>188</td>\n",
       "      <td>187</td>\n",
       "      <td>...</td>\n",
       "      <td>202</td>\n",
       "      <td>201</td>\n",
       "      <td>200</td>\n",
       "      <td>199</td>\n",
       "      <td>198</td>\n",
       "      <td>199</td>\n",
       "      <td>198</td>\n",
       "      <td>195</td>\n",
       "      <td>194</td>\n",
       "      <td>195</td>\n",
       "    </tr>\n",
       "    <tr>\n",
       "      <th>3</th>\n",
       "      <td>2</td>\n",
       "      <td>211</td>\n",
       "      <td>211</td>\n",
       "      <td>212</td>\n",
       "      <td>212</td>\n",
       "      <td>211</td>\n",
       "      <td>210</td>\n",
       "      <td>211</td>\n",
       "      <td>210</td>\n",
       "      <td>210</td>\n",
       "      <td>...</td>\n",
       "      <td>235</td>\n",
       "      <td>234</td>\n",
       "      <td>233</td>\n",
       "      <td>231</td>\n",
       "      <td>230</td>\n",
       "      <td>226</td>\n",
       "      <td>225</td>\n",
       "      <td>222</td>\n",
       "      <td>229</td>\n",
       "      <td>163</td>\n",
       "    </tr>\n",
       "    <tr>\n",
       "      <th>4</th>\n",
       "      <td>13</td>\n",
       "      <td>164</td>\n",
       "      <td>167</td>\n",
       "      <td>170</td>\n",
       "      <td>172</td>\n",
       "      <td>176</td>\n",
       "      <td>179</td>\n",
       "      <td>180</td>\n",
       "      <td>184</td>\n",
       "      <td>185</td>\n",
       "      <td>...</td>\n",
       "      <td>92</td>\n",
       "      <td>105</td>\n",
       "      <td>105</td>\n",
       "      <td>108</td>\n",
       "      <td>133</td>\n",
       "      <td>163</td>\n",
       "      <td>157</td>\n",
       "      <td>163</td>\n",
       "      <td>164</td>\n",
       "      <td>179</td>\n",
       "    </tr>\n",
       "  </tbody>\n",
       "</table>\n",
       "<p>5 rows × 785 columns</p>\n",
       "</div>"
      ],
      "text/plain": [
       "   label  pixel1  pixel2  pixel3  pixel4  pixel5  pixel6  pixel7  pixel8  \\\n",
       "0      3     107     118     127     134     139     143     146     150   \n",
       "1      6     155     157     156     156     156     157     156     158   \n",
       "2      2     187     188     188     187     187     186     187     188   \n",
       "3      2     211     211     212     212     211     210     211     210   \n",
       "4     13     164     167     170     172     176     179     180     184   \n",
       "\n",
       "   pixel9  ...  pixel775  pixel776  pixel777  pixel778  pixel779  pixel780  \\\n",
       "0     153  ...       207       207       207       207       206       206   \n",
       "1     158  ...        69       149       128        87        94       163   \n",
       "2     187  ...       202       201       200       199       198       199   \n",
       "3     210  ...       235       234       233       231       230       226   \n",
       "4     185  ...        92       105       105       108       133       163   \n",
       "\n",
       "   pixel781  pixel782  pixel783  pixel784  \n",
       "0       206       204       203       202  \n",
       "1       175       103       135       149  \n",
       "2       198       195       194       195  \n",
       "3       225       222       229       163  \n",
       "4       157       163       164       179  \n",
       "\n",
       "[5 rows x 785 columns]"
      ]
     },
     "execution_count": 4,
     "metadata": {},
     "output_type": "execute_result"
    }
   ],
   "source": [
    "train_df = pd.read_csv(\"sign_mnist_train.csv\")\n",
    "train_df.head(5)"
   ]
  },
  {
   "cell_type": "code",
   "execution_count": 5,
   "metadata": {
    "colab": {
     "base_uri": "https://localhost:8080/"
    },
    "id": "W2ns3lZEi7Iv",
    "outputId": "f451d738-f901-4c46-e648-94397cb0ce76"
   },
   "outputs": [
    {
     "name": "stdout",
     "output_type": "stream",
     "text": [
      "Shape of the training dataset:  (27455, 785)\n"
     ]
    }
   ],
   "source": [
    "print(\"Shape of the training dataset: \", train_df.shape)"
   ]
  },
  {
   "cell_type": "code",
   "execution_count": 6,
   "metadata": {
    "id": "3AgOBcAF_nCX"
   },
   "outputs": [],
   "source": [
    "#Normalization & Reshaping"
   ]
  },
  {
   "cell_type": "code",
   "execution_count": 7,
   "metadata": {
    "id": "043kYNzpi7Iv"
   },
   "outputs": [],
   "source": [
    "y = train_df.values[:, 0] \n",
    "X = train_df.values[:, 1:]/255.0  \n",
    "\n",
    "X = X.reshape(-1, IMG_SIZE, IMG_SIZE)"
   ]
  },
  {
   "cell_type": "code",
   "execution_count": 8,
   "metadata": {
    "colab": {
     "base_uri": "https://localhost:8080/",
     "height": 282
    },
    "id": "Ez9Py225i7Iv",
    "outputId": "509be2cf-30f4-42c8-d4f7-d0a96aa688be"
   },
   "outputs": [
    {
     "data": {
      "text/plain": [
       "<matplotlib.image.AxesImage at 0x192528af6a0>"
      ]
     },
     "execution_count": 8,
     "metadata": {},
     "output_type": "execute_result"
    },
    {
     "data": {
      "image/png": "[encoded data removed]",
      "text/plain": [
       "<Figure size 640x480 with 1 Axes>"
      ]
     },
     "metadata": {},
     "output_type": "display_data"
    }
   ],
   "source": [
    "\n",
    "plt.imshow(X[2])"
   ]
  },
  {
   "cell_type": "code",
   "execution_count": 9,
   "metadata": {
    "colab": {
     "base_uri": "https://localhost:8080/",
     "height": 282
    },
    "id": "xlQx54GDi7Iw",
    "outputId": "1c5160c7-3a59-4bc4-cc1a-7d011eec0b83"
   },
   "outputs": [
    {
     "data": {
      "text/plain": [
       "<matplotlib.image.AxesImage at 0x19252a31910>"
      ]
     },
     "execution_count": 9,
     "metadata": {},
     "output_type": "execute_result"
    },
    {
     "data": {
      "image/png": "[encoded data removed]",
      "text/plain": [
       "<Figure size 640x480 with 1 Axes>"
      ]
     },
     "metadata": {},
     "output_type": "display_data"
    }
   ],
   "source": [
    "X_T = np.transpose(X, axes=(0, 2, 1))\n",
    "\n",
    "plt.imshow(X_T[2])"
   ]
  },
  {
   "cell_type": "markdown",
   "metadata": {
    "id": "MX_npg-Li7Iw"
   },
   "source": [
    "But, we won't pass the X_T as an input to the LSTM, instead we will pass X as input and transform the dataset using only the Keras layers"
   ]
  },
  {
   "cell_type": "code",
   "execution_count": 10,
   "metadata": {
    "colab": {
     "base_uri": "https://localhost:8080/"
    },
    "id": "ZeFN9VkYi7Iw",
    "outputId": "25c26ff5-9634-4669-c676-94eaf7a2f414"
   },
   "outputs": [
    {
     "name": "stdout",
     "output_type": "stream",
     "text": [
      "Size of the un-transposed dataset:  27455\n",
      "Size of the transposed dataset:  27455\n"
     ]
    }
   ],
   "source": [
    "print(\"Size of the un-transposed dataset: \", X.shape[0])\n",
    "print(\"Size of the transposed dataset: \", X_T.shape[0])"
   ]
  },
  {
   "cell_type": "code",
   "execution_count": 11,
   "metadata": {
    "colab": {
     "base_uri": "https://localhost:8080/"
    },
    "id": "VbjCwM8ni7Iw",
    "outputId": "702320ef-b5d1-4307-ee97-d58c01932ade"
   },
   "outputs": [
    {
     "name": "stdout",
     "output_type": "stream",
     "text": [
      "Shape of the target variable:  (27455, 25)\n",
      "First few records:\n",
      "[[0. 0. 0. 1. 0. 0. 0. 0. 0. 0. 0. 0. 0. 0. 0. 0. 0. 0. 0. 0. 0. 0. 0. 0.\n",
      "  0.]\n",
      " [0. 0. 0. 0. 0. 0. 1. 0. 0. 0. 0. 0. 0. 0. 0. 0. 0. 0. 0. 0. 0. 0. 0. 0.\n",
      "  0.]]\n"
     ]
    }
   ],
   "source": [
    "y_encoded = to_categorical(y)\n",
    "print(\"Shape of the target variable: \", y_encoded.shape)\n",
    "\n",
    "print(\"First few records:\")\n",
    "print(y_encoded[:2])"
   ]
  },
  {
   "cell_type": "code",
   "execution_count": 12,
   "metadata": {
    "id": "XYeHSO-1tVnY"
   },
   "outputs": [
    {
     "data": {
      "text/plain": [
       "<AxesSubplot: ylabel='count'>"
      ]
     },
     "execution_count": 12,
     "metadata": {},
     "output_type": "execute_result"
    },
    {
     "data": {
      "image/png": "[encoded data removed]",
      "text/plain": [
       "<Figure size 500x500 with 1 Axes>"
      ]
     },
     "metadata": {},
     "output_type": "display_data"
    }
   ],
   "source": [
    "plt.figure(figsize = (5,5)) \n",
    "sns.set_theme(palette = 'pastel', style = 'white')\n",
    "sns.countplot(y_encoded)"
   ]
  },
  {
   "cell_type": "markdown",
   "metadata": {
    "id": "VFQa-KQBi7Ix"
   },
   "source": [
    "# Build & Train the Model"
   ]
  },
  {
   "cell_type": "code",
   "execution_count": 13,
   "metadata": {
    "id": "JwOAY0SKi7Ix"
   },
   "outputs": [],
   "source": [
    "VALIDATION_SIZE = .2\n",
    "EPOCHS = 5\n",
    "BATCH_SIZE = 32\n",
    "LATENT_DIM = 50"
   ]
  },
  {
   "cell_type": "markdown",
   "metadata": {
    "id": "-eh-q4tLi7Ix"
   },
   "source": [
    "As mentioned above, we will create two models, one which will read the images horizontally and the second from top to bottom."
   ]
  },
  {
   "cell_type": "code",
   "execution_count": 14,
   "metadata": {
    "id": "OPU2jczQi7Ix"
   },
   "outputs": [],
   "source": [
    "image_input = Input(shape=(IMG_SIZE, IMG_SIZE))\n",
    "\n",
    "l2r_lstm = Bidirectional(LSTM(units=LATENT_DIM, return_sequences=True))(image_input)\n",
    "\n",
    "l2r_lstm = GlobalMaxPool1D()(l2r_lstm)\n"
   ]
  },
  {
   "cell_type": "code",
   "execution_count": 15,
   "metadata": {
    "id": "vHbJYlTmi7Ix"
   },
   "outputs": [],
   "source": [
    "#transpose_input = Lambda(lambda img: permute_dimensions(img, pattern=(0, 2, 1)))(image_input)\n",
    "transpose_input = Lambda(lambda img: tf.transpose(img, perm=[0, 2, 1]))(image_input)\n",
    "\n",
    "t2b_lstm = Bidirectional(LSTM(units=LATENT_DIM, return_sequences=True))(transpose_input)\n",
    "\n",
    "t2b_lstm = GlobalMaxPool1D()(t2b_lstm)\n"
   ]
  },
  {
   "cell_type": "code",
   "execution_count": 16,
   "metadata": {
    "id": "nBFzfU4vi7Ix"
   },
   "outputs": [],
   "source": [
    "l2r_t2b_lstm = Concatenate(axis=1)([l2r_lstm, t2b_lstm])\n",
    "\n",
    "output_probs = Dense(NUM_CLASSES, activation='softmax')(l2r_t2b_lstm)\n",
    "\n",
    "bi_lstm_model = Model(inputs=image_input, outputs=output_probs)\n",
    "\n",
    "bi_lstm_model.compile(\n",
    "    optimizer=\"adam\",\n",
    "    loss=\"categorical_crossentropy\",\n",
    "    metrics=[\"accuracy\"]\n",
    ")"
   ]
  },
  {
   "cell_type": "code",
   "execution_count": 17,
   "metadata": {
    "colab": {
     "base_uri": "https://localhost:8080/"
    },
    "id": "lZBn1r-si7Iy",
    "outputId": "d35d1853-4deb-4112-c998-d42b9bba7f47"
   },
   "outputs": [
    {
     "name": "stdout",
     "output_type": "stream",
     "text": [
      "Model: \"model\"\n",
      "__________________________________________________________________________________________________\n",
      " Layer (type)                   Output Shape         Param #     Connected to                     \n",
      "==================================================================================================\n",
      " input_1 (InputLayer)           [(None, 28, 28)]     0           []                               \n",
      "                                                                                                  \n",
      " lambda (Lambda)                (None, 28, 28)       0           ['input_1[0][0]']                \n",
      "                                                                                                  \n",
      " bidirectional (Bidirectional)  (None, 28, 100)      31600       ['input_1[0][0]']                \n",
      "                                                                                                  \n",
      " bidirectional_1 (Bidirectional  (None, 28, 100)     31600       ['lambda[0][0]']                 \n",
      " )                                                                                                \n",
      "                                                                                                  \n",
      " global_max_pooling1d (GlobalMa  (None, 100)         0           ['bidirectional[0][0]']          \n",
      " xPooling1D)                                                                                      \n",
      "                                                                                                  \n",
      " global_max_pooling1d_1 (Global  (None, 100)         0           ['bidirectional_1[0][0]']        \n",
      " MaxPooling1D)                                                                                    \n",
      "                                                                                                  \n",
      " concatenate (Concatenate)      (None, 200)          0           ['global_max_pooling1d[0][0]',   \n",
      "                                                                  'global_max_pooling1d_1[0][0]'] \n",
      "                                                                                                  \n",
      " dense (Dense)                  (None, 25)           5025        ['concatenate[0][0]']            \n",
      "                                                                                                  \n",
      "==================================================================================================\n",
      "Total params: 68,225\n",
      "Trainable params: 68,225\n",
      "Non-trainable params: 0\n",
      "__________________________________________________________________________________________________\n"
     ]
    }
   ],
   "source": [
    "bi_lstm_model.summary()"
   ]
  },
  {
   "cell_type": "code",
   "execution_count": 18,
   "metadata": {
    "colab": {
     "base_uri": "https://localhost:8080/"
    },
    "id": "OQkqY5uHi7Iy",
    "outputId": "7b810e7c-b894-4bb3-96ef-03075040b74d"
   },
   "outputs": [
    {
     "name": "stdout",
     "output_type": "stream",
     "text": [
      "Epoch 1/5\n",
      "687/687 [==============================] - 38s 36ms/step - loss: 2.0349 - accuracy: 0.3839 - val_loss: 1.3168 - val_accuracy: 0.5902\n",
      "Epoch 2/5\n",
      "687/687 [==============================] - 22s 32ms/step - loss: 0.8856 - accuracy: 0.7291 - val_loss: 0.6536 - val_accuracy: 0.8122\n",
      "Epoch 3/5\n",
      "687/687 [==============================] - 23s 33ms/step - loss: 0.4789 - accuracy: 0.8662 - val_loss: 0.3517 - val_accuracy: 0.9071\n",
      "Epoch 4/5\n",
      "687/687 [==============================] - 22s 31ms/step - loss: 0.2805 - accuracy: 0.9271 - val_loss: 0.1906 - val_accuracy: 0.9570\n",
      "Epoch 5/5\n",
      "687/687 [==============================] - 22s 31ms/step - loss: 0.1839 - accuracy: 0.9536 - val_loss: 0.0989 - val_accuracy: 0.9878\n"
     ]
    }
   ],
   "source": [
    "history = bi_lstm_model.fit(\n",
    "    X, y_encoded,\n",
    "    validation_split=VALIDATION_SIZE, \n",
    "    epochs=EPOCHS, \n",
    "    batch_size=BATCH_SIZE\n",
    ")"
   ]
  },
  {
   "cell_type": "code",
   "execution_count": 19,
   "metadata": {
    "colab": {
     "base_uri": "https://localhost:8080/"
    },
    "id": "8kosnWwIuTcV",
    "outputId": "ca73519c-8113-4ab5-fee6-debbefb91f41"
   },
   "outputs": [
    {
     "name": "stdout",
     "output_type": "stream",
     "text": [
      "858/858 [==============================] - 10s 11ms/step - loss: 0.0951 - accuracy: 0.9886\n",
      "Accuracy of the model is -  98.85631203651428 %\n"
     ]
    }
   ],
   "source": [
    "print(\"Accuracy of the model is - \" , bi_lstm_model.evaluate(X, y_encoded)[1]*100 , \"%\")"
   ]
  },
  {
   "cell_type": "code",
   "execution_count": 20,
   "metadata": {
    "colab": {
     "base_uri": "https://localhost:8080/",
     "height": 513
    },
    "id": "RLNbtjJei7Iy",
    "outputId": "833a4624-513f-417e-a503-6efea236dda4"
   },
   "outputs": [
    {
     "data": {
      "image/png": "[encoded data removed]",
      "text/plain": [
       "<Figure size 640x480 with 1 Axes>"
      ]
     },
     "metadata": {},
     "output_type": "display_data"
    },
    {
     "data": {
      "image/png": "[encoded data removed]",
      "text/plain": [
       "<Figure size 640x480 with 1 Axes>"
      ]
     },
     "metadata": {},
     "output_type": "display_data"
    }
   ],
   "source": [
    "plt.plot(history.history['loss'], label='loss')\n",
    "plt.plot(history.history['val_loss'], label='val_loss')\n",
    "plt.legend()\n",
    "plt.show()\n",
    "\n",
    "plt.plot(history.history['accuracy'], label='acc')\n",
    "plt.plot(history.history['val_accuracy'], label='val_acc')\n",
    "plt.legend()\n",
    "plt.show()"
   ]
  },
  {
   "cell_type": "markdown",
   "metadata": {
    "id": "vtYmm_lai7Iy"
   },
   "source": [
    "# Make Predictions"
   ]
  },
  {
   "cell_type": "code",
   "execution_count": 21,
   "metadata": {
    "colab": {
     "base_uri": "https://localhost:8080/",
     "height": 282
    },
    "id": "1HC0D39pi7Iy",
    "outputId": "4e973c41-e7c2-4d36-cc5b-cadf7e1e75c5"
   },
   "outputs": [
    {
     "data": {
      "text/plain": [
       "<matplotlib.image.AxesImage at 0x1927cbcbf10>"
      ]
     },
     "execution_count": 21,
     "metadata": {},
     "output_type": "execute_result"
    },
    {
     "data": {
      "image/png": "[encoded data removed]",
      "text/plain": [
       "<Figure size 640x480 with 1 Axes>"
      ]
     },
     "metadata": {},
     "output_type": "display_data"
    }
   ],
   "source": [
    "X_predict = pd.read_csv(\"sign_mnist_test.csv\")\n",
    "X_predict = train_df.values[:, 1:]/255.0 \n",
    "\n",
    "X_predict = X_predict.reshape(-1, IMG_SIZE, IMG_SIZE)\n",
    "\n",
    "plt.imshow(X_predict[0])"
   ]
  },
  {
   "cell_type": "code",
   "execution_count": 22,
   "metadata": {
    "colab": {
     "base_uri": "https://localhost:8080/"
    },
    "id": "VLYN0X80i7Iy",
    "outputId": "eb2cf2c2-9650-44d4-9cf4-877c4e592d7e"
   },
   "outputs": [
    {
     "name": "stdout",
     "output_type": "stream",
     "text": [
      "858/858 [==============================] - 12s 11ms/step\n"
     ]
    },
    {
     "data": {
      "text/plain": [
       "3"
      ]
     },
     "execution_count": 22,
     "metadata": {},
     "output_type": "execute_result"
    }
   ],
   "source": [
    "y_predicted_classes = np.argmax(bi_lstm_model.predict(X_predict), axis=1)\n",
    "\n",
    "y_predicted_classes[0]"
   ]
  },
  {
   "cell_type": "code",
   "execution_count": 23,
   "metadata": {},
   "outputs": [],
   "source": [
    "bi_lstm_model.save('bi_lstm_model.h5')"
   ]
  },
  {
   "cell_type": "code",
   "execution_count": 24,
   "metadata": {
    "id": "fGjHgHgVi7Iz"
   },
   "outputs": [],
   "source": [
    "submissions = pd.DataFrame()\n",
    "submissions[\"ImageId\"] = [i for i in range(1, y_predicted_classes.shape[0]+1)]\n",
    "submissions[\"Label\"] = y_predicted_classes\n",
    "\n",
    "submissions.to_csv(\"submissions.csv\", index=False)"
   ]
  },
  {
   "cell_type": "code",
   "execution_count": null,
   "metadata": {},
   "outputs": [],
   "source": []
  },
  {
   "cell_type": "code",
   "execution_count": null,
   "metadata": {},
   "outputs": [],
   "source": []
  }
 ],
 "metadata": {
  "colab": {
   "provenance": []
  },
  "kernelspec": {
   "display_name": "Python 3 (ipykernel)",
   "language": "python",
   "name": "python3"
  },
  "language_info": {
   "codemirror_mode": {
    "name": "ipython",
    "version": 3
   },
   "file_extension": ".py",
   "mimetype": "text/x-python",
   "name": "python",
   "nbconvert_exporter": "python",
   "pygments_lexer": "ipython3",
   "version": "3.8.8"
  }
 },
 "nbformat": 4,
 "nbformat_minor": 4
}
